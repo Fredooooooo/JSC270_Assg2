{
  "nbformat": 4,
  "nbformat_minor": 0,
  "metadata": {
    "colab": {
      "name": "JSC270_Assignment2.ipynb",
      "provenance": [],
      "collapsed_sections": [],
      "include_colab_link": true
    },
    "kernelspec": {
      "name": "python3",
      "display_name": "Python 3"
    }
  },
  "cells": [
    {
      "cell_type": "markdown",
      "metadata": {
        "id": "view-in-github",
        "colab_type": "text"
      },
      "source": [
        "<a href=\"https://colab.research.google.com/github/Fredooooooo/JSC270_Assg2/blob/new_branch/JSC270_Assignment2.ipynb\" target=\"_parent\"><img src=\"https://colab.research.google.com/assets/colab-badge.svg\" alt=\"Open In Colab\"/></a>"
      ]
    },
    {
      "cell_type": "markdown",
      "metadata": {
        "id": "Dx3JcBg8VZ-a"
      },
      "source": [
        "###Libraries"
      ]
    },
    {
      "cell_type": "code",
      "metadata": {
        "id": "3I79uCwE3Sq8"
      },
      "source": [
        "import pandas as pd\r\n",
        "import numpy as np\r\n",
        "import scipy.stats as sci\r\n",
        "import matplotlib.pyplot as plt\r\n",
        "import seaborn as sns\r\n",
        "from scipy import stats\r\n",
        "import statsmodels.api as sm\r\n",
        "from statsmodels.stats.weightstats import DescrStatsW\r\n",
        "import statsmodels.formula.api as smf\r\n",
        "import io"
      ],
      "execution_count": 137,
      "outputs": []
    },
    {
      "cell_type": "markdown",
      "metadata": {
        "id": "9U0oB7HfVZ3g"
      },
      "source": [
        ""
      ]
    },
    {
      "cell_type": "markdown",
      "metadata": {
        "id": "X0oR7u9m-wO6"
      },
      "source": [
        "###Importing data"
      ]
    },
    {
      "cell_type": "code",
      "metadata": {
        "id": "f3jscp2H3Yqm",
        "colab": {
          "base_uri": "https://localhost:8080/"
        },
        "outputId": "dd569973-fe83-44d8-d2e3-b887e1d125d2"
      },
      "source": [
        "income94 = pd.read_csv('https://archive.ics.uci.edu/ml/machine-learning-databases/adult/adult.data',  sep = ', ', header=None)\r\n",
        "income94.columns = ['age','workclass', 'fnlwgt','education','education_num','marital_status','occupation',\r\n",
        "                    'relationship','race','sex','capital_gain','capital_loss','hours_per_week','native_country','gross_income_group']\r\n",
        "income94.head"
      ],
      "execution_count": 103,
      "outputs": [
        {
          "output_type": "stream",
          "text": [
            "/usr/local/lib/python3.6/dist-packages/ipykernel_launcher.py:1: ParserWarning: Falling back to the 'python' engine because the 'c' engine does not support regex separators (separators > 1 char and different from '\\s+' are interpreted as regex); you can avoid this warning by specifying engine='python'.\n",
            "  \"\"\"Entry point for launching an IPython kernel.\n"
          ],
          "name": "stderr"
        },
        {
          "output_type": "execute_result",
          "data": {
            "text/plain": [
              "<bound method NDFrame.head of        age         workclass  ...  native_country gross_income_group\n",
              "0       39         State-gov  ...   United-States              <=50K\n",
              "1       50  Self-emp-not-inc  ...   United-States              <=50K\n",
              "2       38           Private  ...   United-States              <=50K\n",
              "3       53           Private  ...   United-States              <=50K\n",
              "4       28           Private  ...            Cuba              <=50K\n",
              "...    ...               ...  ...             ...                ...\n",
              "32556   27           Private  ...   United-States              <=50K\n",
              "32557   40           Private  ...   United-States               >50K\n",
              "32558   58           Private  ...   United-States              <=50K\n",
              "32559   22           Private  ...   United-States              <=50K\n",
              "32560   52      Self-emp-inc  ...   United-States               >50K\n",
              "\n",
              "[32561 rows x 15 columns]>"
            ]
          },
          "metadata": {
            "tags": []
          },
          "execution_count": 103
        }
      ]
    },
    {
      "cell_type": "code",
      "metadata": {
        "colab": {
          "base_uri": "https://localhost:8080/"
        },
        "id": "QLgFvnrZjSF5",
        "outputId": "e6284692-fb93-4dde-d2df-68e5790270e7"
      },
      "source": [
        "income94.info()"
      ],
      "execution_count": 104,
      "outputs": [
        {
          "output_type": "stream",
          "text": [
            "<class 'pandas.core.frame.DataFrame'>\n",
            "RangeIndex: 32561 entries, 0 to 32560\n",
            "Data columns (total 15 columns):\n",
            " #   Column              Non-Null Count  Dtype \n",
            "---  ------              --------------  ----- \n",
            " 0   age                 32561 non-null  int64 \n",
            " 1   workclass           32561 non-null  object\n",
            " 2   fnlwgt              32561 non-null  int64 \n",
            " 3   education           32561 non-null  object\n",
            " 4   education_num       32561 non-null  int64 \n",
            " 5   marital_status      32561 non-null  object\n",
            " 6   occupation          32561 non-null  object\n",
            " 7   relationship        32561 non-null  object\n",
            " 8   race                32561 non-null  object\n",
            " 9   sex                 32561 non-null  object\n",
            " 10  capital_gain        32561 non-null  int64 \n",
            " 11  capital_loss        32561 non-null  int64 \n",
            " 12  hours_per_week      32561 non-null  int64 \n",
            " 13  native_country      32561 non-null  object\n",
            " 14  gross_income_group  32561 non-null  object\n",
            "dtypes: int64(6), object(9)\n",
            "memory usage: 3.7+ MB\n"
          ],
          "name": "stdout"
        }
      ]
    },
    {
      "cell_type": "code",
      "metadata": {
        "colab": {
          "base_uri": "https://localhost:8080/"
        },
        "id": "MimUebv2fXNw",
        "outputId": "91a7cbe4-ba35-4860-8b37-f1a8d4c02ebb"
      },
      "source": [
        "income94.education_num.sort_values()"
      ],
      "execution_count": 132,
      "outputs": [
        {
          "output_type": "execute_result",
          "data": {
            "text/plain": [
              "22940     1\n",
              "13248     1\n",
              "21370     1\n",
              "25943     1\n",
              "21388     1\n",
              "         ..\n",
              "10647    16\n",
              "12074    16\n",
              "28758    16\n",
              "4597     16\n",
              "15708    16\n",
              "Name: education_num, Length: 32561, dtype: int64"
            ]
          },
          "metadata": {
            "tags": []
          },
          "execution_count": 132
        }
      ]
    },
    {
      "cell_type": "markdown",
      "metadata": {
        "id": "D6DxVII4kDyC"
      },
      "source": [
        "### See what sign is used to denote missing values"
      ]
    },
    {
      "cell_type": "code",
      "metadata": {
        "colab": {
          "base_uri": "https://localhost:8080/"
        },
        "id": "Derb9CgGkarK",
        "outputId": "a9852877-cf3f-4b1c-f003-79faf2364db8"
      },
      "source": [
        "income94.occupation.value_counts()"
      ],
      "execution_count": 105,
      "outputs": [
        {
          "output_type": "execute_result",
          "data": {
            "text/plain": [
              "Prof-specialty       4140\n",
              "Craft-repair         4099\n",
              "Exec-managerial      4066\n",
              "Adm-clerical         3770\n",
              "Sales                3650\n",
              "Other-service        3295\n",
              "Machine-op-inspct    2002\n",
              "?                    1843\n",
              "Transport-moving     1597\n",
              "Handlers-cleaners    1370\n",
              "Farming-fishing       994\n",
              "Tech-support          928\n",
              "Protective-serv       649\n",
              "Priv-house-serv       149\n",
              "Armed-Forces            9\n",
              "Name: occupation, dtype: int64"
            ]
          },
          "metadata": {
            "tags": []
          },
          "execution_count": 105
        }
      ]
    },
    {
      "cell_type": "markdown",
      "metadata": {
        "id": "sl8PRBAQlJse"
      },
      "source": [
        "### Replace ? with NaN"
      ]
    },
    {
      "cell_type": "code",
      "metadata": {
        "colab": {
          "base_uri": "https://localhost:8080/"
        },
        "id": "S1vD4MPHlN8L",
        "outputId": "6a3a8782-af5c-4cfd-9f4c-5c524a4a5857"
      },
      "source": [
        "income94 = income94.replace('?', np.nan)\r\n",
        "income94.info()"
      ],
      "execution_count": 106,
      "outputs": [
        {
          "output_type": "stream",
          "text": [
            "<class 'pandas.core.frame.DataFrame'>\n",
            "RangeIndex: 32561 entries, 0 to 32560\n",
            "Data columns (total 15 columns):\n",
            " #   Column              Non-Null Count  Dtype \n",
            "---  ------              --------------  ----- \n",
            " 0   age                 32561 non-null  int64 \n",
            " 1   workclass           30725 non-null  object\n",
            " 2   fnlwgt              32561 non-null  int64 \n",
            " 3   education           32561 non-null  object\n",
            " 4   education_num       32561 non-null  int64 \n",
            " 5   marital_status      32561 non-null  object\n",
            " 6   occupation          30718 non-null  object\n",
            " 7   relationship        32561 non-null  object\n",
            " 8   race                32561 non-null  object\n",
            " 9   sex                 32561 non-null  object\n",
            " 10  capital_gain        32561 non-null  int64 \n",
            " 11  capital_loss        32561 non-null  int64 \n",
            " 12  hours_per_week      32561 non-null  int64 \n",
            " 13  native_country      31978 non-null  object\n",
            " 14  gross_income_group  32561 non-null  object\n",
            "dtypes: int64(6), object(9)\n",
            "memory usage: 3.7+ MB\n"
          ],
          "name": "stdout"
        }
      ]
    },
    {
      "cell_type": "code",
      "metadata": {
        "colab": {
          "base_uri": "https://localhost:8080/"
        },
        "id": "lMKO4jYMEiwX",
        "outputId": "e2580a4e-4c81-4a3c-b583-55c72ebebb51"
      },
      "source": [
        "income94.isna().sum()"
      ],
      "execution_count": 107,
      "outputs": [
        {
          "output_type": "execute_result",
          "data": {
            "text/plain": [
              "age                      0\n",
              "workclass             1836\n",
              "fnlwgt                   0\n",
              "education                0\n",
              "education_num            0\n",
              "marital_status           0\n",
              "occupation            1843\n",
              "relationship             0\n",
              "race                     0\n",
              "sex                      0\n",
              "capital_gain             0\n",
              "capital_loss             0\n",
              "hours_per_week           0\n",
              "native_country         583\n",
              "gross_income_group       0\n",
              "dtype: int64"
            ]
          },
          "metadata": {
            "tags": []
          },
          "execution_count": 107
        }
      ]
    },
    {
      "cell_type": "markdown",
      "metadata": {
        "id": "c1GCVsyn4YqL"
      },
      "source": [
        "### Plot and transformation\r\n",
        "From the histogram of the capital_gain, we find that most of them are 0 capital_gain. In this case, applying a log transformation only help to spread out those values larger than zero a bit. Since most values are 0, it's not necessary to apply the transformation.\\\r\n",
        "Similarly, the distribution of capital_loss also shows that most of the capital_loss are 0s. And in this case, applying a log transformation can't help to make them more evenly distributed. Therefore, we don't need to do transformations.\r\n"
      ]
    },
    {
      "cell_type": "code",
      "metadata": {
        "colab": {
          "base_uri": "https://localhost:8080/",
          "height": 294
        },
        "id": "N2WL5IDk4eUy",
        "outputId": "252bddcb-381a-49da-8168-f83678067604"
      },
      "source": [
        "fig, (plt1, plt2) = plt.subplots(1, 2)\r\n",
        "fig.suptitle('Comparing original vs logged capital_gain')\r\n",
        "plt1.hist(income94.capital_gain)\r\n",
        "plt2.hist(np.log(income94.capital_gain + 1))\r\n",
        "fig.show()"
      ],
      "execution_count": 108,
      "outputs": [
        {
          "output_type": "display_data",
          "data": {
            "image/png": "[encoded data removed]",
            "text/plain": [
              "<Figure size 432x288 with 2 Axes>"
            ]
          },
          "metadata": {
            "tags": [],
            "needs_background": "light"
          }
        }
      ]
    },
    {
      "cell_type": "code",
      "metadata": {
        "colab": {
          "base_uri": "https://localhost:8080/",
          "height": 294
        },
        "id": "tMXJYruPFPGo",
        "outputId": "65ac864e-46a0-44ba-a4c8-2caebf8e08fb"
      },
      "source": [
        "fig, (plt1, plt2) = plt.subplots(1, 2)\r\n",
        "fig.suptitle('Comparing original vs logged capital_loss')\r\n",
        "plt1.hist(income94.capital_loss)\r\n",
        "plt2.hist(np.log(income94.capital_loss + 1))\r\n",
        "fig.show()"
      ],
      "execution_count": 109,
      "outputs": [
        {
          "output_type": "display_data",
          "data": {
            "image/png": "[encoded data removed]",
            "text/plain": [
              "<Figure size 432x288 with 2 Axes>"
            ]
          },
          "metadata": {
            "tags": [],
            "needs_background": "light"
          }
        }
      ]
    },
    {
      "cell_type": "markdown",
      "metadata": {
        "id": "hGfA71cDHNta"
      },
      "source": [
        "### Distribution of fnlwgt\r\n",
        "As the graph shown below, the data is not symmetrically distributed. It is right-skewed.\r\n",
        "When comparing the fnlwgt of male and female, I find that they have similar trends. Both of them are right-skewed, but the fnlwgt for male are generally 2 times the fnlwgt for female."
      ]
    },
    {
      "cell_type": "code",
      "metadata": {
        "colab": {
          "base_uri": "https://localhost:8080/"
        },
        "id": "r6fJN47tSVeF",
        "outputId": "5dd62acd-77b2-435a-a0b1-4d299d331a54"
      },
      "source": [
        "income94.fnlwgt.sort_values()"
      ],
      "execution_count": 110,
      "outputs": [
        {
          "output_type": "execute_result",
          "data": {
            "text/plain": [
              "17096      12285\n",
              "27207      13769\n",
              "25743      14878\n",
              "24012      18827\n",
              "10826      19214\n",
              "          ...   \n",
              "8258     1226583\n",
              "15569    1268339\n",
              "16739    1366120\n",
              "18138    1455435\n",
              "14449    1484705\n",
              "Name: fnlwgt, Length: 32561, dtype: int64"
            ]
          },
          "metadata": {
            "tags": []
          },
          "execution_count": 110
        }
      ]
    },
    {
      "cell_type": "code",
      "metadata": {
        "colab": {
          "base_uri": "https://localhost:8080/",
          "height": 294
        },
        "id": "LnXWJCmVMquY",
        "outputId": "75fbf4f7-75ba-4aa1-9d24-42afb52c997e"
      },
      "source": [
        "plt.hist(income94.fnlwgt)\r\n",
        "plt.title(\"histogram with fnlwgt\")\r\n",
        "plt.show()"
      ],
      "execution_count": 111,
      "outputs": [
        {
          "output_type": "display_data",
          "data": {
            "image/png": "[encoded data removed]",
            "text/plain": [
              "<Figure size 432x288 with 1 Axes>"
            ]
          },
          "metadata": {
            "tags": [],
            "needs_background": "light"
          }
        }
      ]
    },
    {
      "cell_type": "code",
      "metadata": {
        "colab": {
          "base_uri": "https://localhost:8080/",
          "height": 307
        },
        "id": "UW3VZoUiOXdK",
        "outputId": "db11e08f-2e3e-4bf9-8927-d4bdf617e681"
      },
      "source": [
        "male = income94[income94.sex == \"Male\"]\r\n",
        "female = income94[income94.sex == \"Female\"]\r\n",
        "fig, (plt1, plt2) = plt.subplots(1, 2)\r\n",
        "fig.suptitle('Comparing male vs female fnlwgt')\r\n",
        "plt1.hist(male.fnlwgt)\r\n",
        "plt2.hist(female.fnlwgt)\r\n",
        "fig.show()"
      ],
      "execution_count": 112,
      "outputs": [
        {
          "output_type": "display_data",
          "data": {
            "image/png": "[encoded data removed]",
            "text/plain": [
              "<Figure size 432x288 with 2 Axes>"
            ]
          },
          "metadata": {
            "tags": [],
            "needs_background": "light"
          }
        }
      ]
    },
    {
      "cell_type": "markdown",
      "metadata": {
        "id": "LdXjeJfnVNbk"
      },
      "source": [
        "### Deal with outliers and replace them with missing values"
      ]
    },
    {
      "cell_type": "code",
      "metadata": {
        "colab": {
          "base_uri": "https://localhost:8080/",
          "height": 657
        },
        "id": "zmBJuSQXVNIv",
        "outputId": "1dbc0c87-b328-46e9-f756-7c61899665ae"
      },
      "source": [
        "def get_outliers(num_var, df):\r\n",
        "  '''Get outliers based on whiskers from \r\n",
        "  boxplot.\r\n",
        "  Input - num_var: A string representing the v\r\n",
        "  variable of interest\r\n",
        "  df: The pd df containing the numerical data\r\n",
        "  Output: A pd df containing the outlier obs\r\n",
        "  '''\r\n",
        "  # Capture 1st and 3rd quartiles\r\n",
        "  firstquart = df[num_var].quantile(q=0.25)\r\n",
        "  thirdquart = df[num_var].quantile(q=0.75)\r\n",
        "  # Generate IQR\r\n",
        "  iqr = thirdquart - firstquart\r\n",
        "  # Generate Whiskers\r\n",
        "  lower_whisker = firstquart - 1.5*iqr\r\n",
        "  upper_whisker = thirdquart + 1.5*iqr\r\n",
        "  # Gen outlier df\r\n",
        "  outliers = df[(df[num_var] > upper_whisker) | (df[num_var] < lower_whisker)]\r\n",
        "  print('The variable {} has {} outliers'.format(num_var, len(outliers)))\r\n",
        "  return outliers\r\n",
        "\r\n",
        "outliers = get_outliers('fnlwgt', income94)\r\n",
        "income94['fnlwgt'].loc[outliers.index] = np.nan"
      ],
      "execution_count": 113,
      "outputs": [
        {
          "output_type": "stream",
          "text": [
            "The variable fnlwgt has 992 outliers\n",
            "The variable fnlwgt has 326 outliers\n"
          ],
          "name": "stdout"
        },
        {
          "output_type": "stream",
          "text": [
            "/usr/local/lib/python3.6/dist-packages/pandas/core/indexing.py:670: SettingWithCopyWarning: \n",
            "A value is trying to be set on a copy of a slice from a DataFrame\n",
            "\n",
            "See the caveats in the documentation: https://pandas.pydata.org/pandas-docs/stable/user_guide/indexing.html#returning-a-view-versus-a-copy\n",
            "  iloc._setitem_with_indexer(indexer, value)\n"
          ],
          "name": "stderr"
        },
        {
          "output_type": "execute_result",
          "data": {
            "text/html": [
              "<div>\n",
              "<style scoped>\n",
              "    .dataframe tbody tr th:only-of-type {\n",
              "        vertical-align: middle;\n",
              "    }\n",
              "\n",
              "    .dataframe tbody tr th {\n",
              "        vertical-align: top;\n",
              "    }\n",
              "\n",
              "    .dataframe thead th {\n",
              "        text-align: right;\n",
              "    }\n",
              "</style>\n",
              "<table border=\"1\" class=\"dataframe\">\n",
              "  <thead>\n",
              "    <tr style=\"text-align: right;\">\n",
              "      <th></th>\n",
              "      <th>age</th>\n",
              "      <th>workclass</th>\n",
              "      <th>fnlwgt</th>\n",
              "      <th>education</th>\n",
              "      <th>education_num</th>\n",
              "      <th>marital_status</th>\n",
              "      <th>occupation</th>\n",
              "      <th>relationship</th>\n",
              "      <th>race</th>\n",
              "      <th>sex</th>\n",
              "      <th>capital_gain</th>\n",
              "      <th>capital_loss</th>\n",
              "      <th>hours_per_week</th>\n",
              "      <th>native_country</th>\n",
              "      <th>gross_income_group</th>\n",
              "    </tr>\n",
              "  </thead>\n",
              "  <tbody>\n",
              "    <tr>\n",
              "      <th>89</th>\n",
              "      <td>43</td>\n",
              "      <td>Federal-gov</td>\n",
              "      <td>410867.0</td>\n",
              "      <td>Doctorate</td>\n",
              "      <td>16</td>\n",
              "      <td>Never-married</td>\n",
              "      <td>Prof-specialty</td>\n",
              "      <td>Not-in-family</td>\n",
              "      <td>White</td>\n",
              "      <td>Female</td>\n",
              "      <td>0</td>\n",
              "      <td>0</td>\n",
              "      <td>50</td>\n",
              "      <td>United-States</td>\n",
              "      <td>&gt;50K</td>\n",
              "    </tr>\n",
              "    <tr>\n",
              "      <th>200</th>\n",
              "      <td>26</td>\n",
              "      <td>Private</td>\n",
              "      <td>397317.0</td>\n",
              "      <td>Masters</td>\n",
              "      <td>14</td>\n",
              "      <td>Never-married</td>\n",
              "      <td>Prof-specialty</td>\n",
              "      <td>Not-in-family</td>\n",
              "      <td>White</td>\n",
              "      <td>Female</td>\n",
              "      <td>0</td>\n",
              "      <td>1876</td>\n",
              "      <td>40</td>\n",
              "      <td>United-States</td>\n",
              "      <td>&lt;=50K</td>\n",
              "    </tr>\n",
              "    <tr>\n",
              "      <th>317</th>\n",
              "      <td>22</td>\n",
              "      <td>Private</td>\n",
              "      <td>399087.0</td>\n",
              "      <td>5th-6th</td>\n",
              "      <td>3</td>\n",
              "      <td>Married-civ-spouse</td>\n",
              "      <td>Machine-op-inspct</td>\n",
              "      <td>Other-relative</td>\n",
              "      <td>White</td>\n",
              "      <td>Female</td>\n",
              "      <td>0</td>\n",
              "      <td>0</td>\n",
              "      <td>40</td>\n",
              "      <td>Mexico</td>\n",
              "      <td>&lt;=50K</td>\n",
              "    </tr>\n",
              "    <tr>\n",
              "      <th>364</th>\n",
              "      <td>22</td>\n",
              "      <td>Private</td>\n",
              "      <td>410439.0</td>\n",
              "      <td>HS-grad</td>\n",
              "      <td>9</td>\n",
              "      <td>Married-spouse-absent</td>\n",
              "      <td>Sales</td>\n",
              "      <td>Not-in-family</td>\n",
              "      <td>White</td>\n",
              "      <td>Male</td>\n",
              "      <td>0</td>\n",
              "      <td>0</td>\n",
              "      <td>55</td>\n",
              "      <td>United-States</td>\n",
              "      <td>&lt;=50K</td>\n",
              "    </tr>\n",
              "    <tr>\n",
              "      <th>444</th>\n",
              "      <td>27</td>\n",
              "      <td>Private</td>\n",
              "      <td>405855.0</td>\n",
              "      <td>9th</td>\n",
              "      <td>5</td>\n",
              "      <td>Never-married</td>\n",
              "      <td>Craft-repair</td>\n",
              "      <td>Other-relative</td>\n",
              "      <td>White</td>\n",
              "      <td>Male</td>\n",
              "      <td>0</td>\n",
              "      <td>0</td>\n",
              "      <td>40</td>\n",
              "      <td>Mexico</td>\n",
              "      <td>&lt;=50K</td>\n",
              "    </tr>\n",
              "    <tr>\n",
              "      <th>...</th>\n",
              "      <td>...</td>\n",
              "      <td>...</td>\n",
              "      <td>...</td>\n",
              "      <td>...</td>\n",
              "      <td>...</td>\n",
              "      <td>...</td>\n",
              "      <td>...</td>\n",
              "      <td>...</td>\n",
              "      <td>...</td>\n",
              "      <td>...</td>\n",
              "      <td>...</td>\n",
              "      <td>...</td>\n",
              "      <td>...</td>\n",
              "      <td>...</td>\n",
              "      <td>...</td>\n",
              "    </tr>\n",
              "    <tr>\n",
              "      <th>31817</th>\n",
              "      <td>49</td>\n",
              "      <td>Private</td>\n",
              "      <td>402462.0</td>\n",
              "      <td>Bachelors</td>\n",
              "      <td>13</td>\n",
              "      <td>Married-spouse-absent</td>\n",
              "      <td>Transport-moving</td>\n",
              "      <td>Unmarried</td>\n",
              "      <td>White</td>\n",
              "      <td>Male</td>\n",
              "      <td>0</td>\n",
              "      <td>0</td>\n",
              "      <td>30</td>\n",
              "      <td>Columbia</td>\n",
              "      <td>&lt;=50K</td>\n",
              "    </tr>\n",
              "    <tr>\n",
              "      <th>31842</th>\n",
              "      <td>42</td>\n",
              "      <td>Private</td>\n",
              "      <td>402367.0</td>\n",
              "      <td>Some-college</td>\n",
              "      <td>10</td>\n",
              "      <td>Married-civ-spouse</td>\n",
              "      <td>Transport-moving</td>\n",
              "      <td>Husband</td>\n",
              "      <td>Black</td>\n",
              "      <td>Male</td>\n",
              "      <td>7688</td>\n",
              "      <td>0</td>\n",
              "      <td>45</td>\n",
              "      <td>United-States</td>\n",
              "      <td>&gt;50K</td>\n",
              "    </tr>\n",
              "    <tr>\n",
              "      <th>32250</th>\n",
              "      <td>43</td>\n",
              "      <td>Private</td>\n",
              "      <td>409922.0</td>\n",
              "      <td>Bachelors</td>\n",
              "      <td>13</td>\n",
              "      <td>Married-civ-spouse</td>\n",
              "      <td>Exec-managerial</td>\n",
              "      <td>Husband</td>\n",
              "      <td>White</td>\n",
              "      <td>Male</td>\n",
              "      <td>0</td>\n",
              "      <td>1977</td>\n",
              "      <td>50</td>\n",
              "      <td>United-States</td>\n",
              "      <td>&gt;50K</td>\n",
              "    </tr>\n",
              "    <tr>\n",
              "      <th>32494</th>\n",
              "      <td>82</td>\n",
              "      <td>NaN</td>\n",
              "      <td>403910.0</td>\n",
              "      <td>HS-grad</td>\n",
              "      <td>9</td>\n",
              "      <td>Never-married</td>\n",
              "      <td>NaN</td>\n",
              "      <td>Not-in-family</td>\n",
              "      <td>White</td>\n",
              "      <td>Male</td>\n",
              "      <td>0</td>\n",
              "      <td>0</td>\n",
              "      <td>3</td>\n",
              "      <td>United-States</td>\n",
              "      <td>&lt;=50K</td>\n",
              "    </tr>\n",
              "    <tr>\n",
              "      <th>32499</th>\n",
              "      <td>25</td>\n",
              "      <td>Private</td>\n",
              "      <td>403788.0</td>\n",
              "      <td>HS-grad</td>\n",
              "      <td>9</td>\n",
              "      <td>Never-married</td>\n",
              "      <td>Craft-repair</td>\n",
              "      <td>Other-relative</td>\n",
              "      <td>Black</td>\n",
              "      <td>Male</td>\n",
              "      <td>0</td>\n",
              "      <td>0</td>\n",
              "      <td>40</td>\n",
              "      <td>United-States</td>\n",
              "      <td>&lt;=50K</td>\n",
              "    </tr>\n",
              "  </tbody>\n",
              "</table>\n",
              "<p>326 rows × 15 columns</p>\n",
              "</div>"
            ],
            "text/plain": [
              "       age    workclass  ...  native_country gross_income_group\n",
              "89      43  Federal-gov  ...   United-States               >50K\n",
              "200     26      Private  ...   United-States              <=50K\n",
              "317     22      Private  ...          Mexico              <=50K\n",
              "364     22      Private  ...   United-States              <=50K\n",
              "444     27      Private  ...          Mexico              <=50K\n",
              "...    ...          ...  ...             ...                ...\n",
              "31817   49      Private  ...        Columbia              <=50K\n",
              "31842   42      Private  ...   United-States               >50K\n",
              "32250   43      Private  ...   United-States               >50K\n",
              "32494   82          NaN  ...   United-States              <=50K\n",
              "32499   25      Private  ...   United-States              <=50K\n",
              "\n",
              "[326 rows x 15 columns]"
            ]
          },
          "metadata": {
            "tags": []
          },
          "execution_count": 113
        }
      ]
    },
    {
      "cell_type": "markdown",
      "metadata": {
        "id": "iqUsNikcW03_"
      },
      "source": [
        "### Correlation between Age, education_num, and hours_per_week"
      ]
    },
    {
      "cell_type": "code",
      "metadata": {
        "colab": {
          "base_uri": "https://localhost:8080/",
          "height": 282
        },
        "id": "jpvVEFZ6Y1Zn",
        "outputId": "a7fb77b5-63e8-4c91-97a1-74dce8e4a309"
      },
      "source": [
        "plt.scatter(income94.age, income94.education_num)\r\n",
        "plt.show()\r\n",
        "\r\n",
        "corr, _ = sci.pearsonr(income94.age, income94.education_num)\r\n",
        "print('Pearsons correlation: %.3f' % corr)"
      ],
      "execution_count": 127,
      "outputs": [
        {
          "output_type": "display_data",
          "data": {
            "image/png": "[encoded data removed]",
            "text/plain": [
              "<Figure size 432x288 with 1 Axes>"
            ]
          },
          "metadata": {
            "tags": [],
            "needs_background": "light"
          }
        },
        {
          "output_type": "stream",
          "text": [
            "Pearsons correlation: 0.037\n"
          ],
          "name": "stdout"
        }
      ]
    },
    {
      "cell_type": "code",
      "metadata": {
        "colab": {
          "base_uri": "https://localhost:8080/",
          "height": 282
        },
        "id": "wlMeQoezZWri",
        "outputId": "0d24c5c0-4996-4200-9d19-3c419ba07d7d"
      },
      "source": [
        "plt.scatter(income94.age, income94.hours_per_week)\r\n",
        "plt.show()\r\n",
        "corr, _ = sci.pearsonr(income94.age, income94.hours_per_week)\r\n",
        "print('Pearsons correlation: %.3f' % corr)"
      ],
      "execution_count": 128,
      "outputs": [
        {
          "output_type": "display_data",
          "data": {
            "image/png": "[encoded data removed]",
            "text/plain": [
              "<Figure size 432x288 with 1 Axes>"
            ]
          },
          "metadata": {
            "tags": [],
            "needs_background": "light"
          }
        },
        {
          "output_type": "stream",
          "text": [
            "Pearsons correlation: 0.069\n"
          ],
          "name": "stdout"
        }
      ]
    },
    {
      "cell_type": "code",
      "metadata": {
        "colab": {
          "base_uri": "https://localhost:8080/",
          "height": 282
        },
        "id": "YewZBEfnZh70",
        "outputId": "5143f099-029f-4ac6-aebf-53b50f1228f5"
      },
      "source": [
        "plt.scatter(income94.hours_per_week, income94.education_num)\r\n",
        "plt.show()\r\n",
        "corr, _ = sci.pearsonr(income94.hours_per_week, income94.education_num)\r\n",
        "print('Pearsons correlation: %.3f' % corr)"
      ],
      "execution_count": 129,
      "outputs": [
        {
          "output_type": "display_data",
          "data": {
            "image/png": "[encoded data removed]",
            "text/plain": [
              "<Figure size 432x288 with 1 Axes>"
            ]
          },
          "metadata": {
            "tags": [],
            "needs_background": "light"
          }
        },
        {
          "output_type": "stream",
          "text": [
            "Pearsons correlation: 0.148\n"
          ],
          "name": "stdout"
        }
      ]
    },
    {
      "cell_type": "markdown",
      "metadata": {
        "id": "0fRctGhacwzW"
      },
      "source": [
        "a). By drawing the scatter plot of three pairs of these variables, I discovered that hours_per_week and education_num are the only pair appears to be correlated. \\\r\n",
        "b). After calculating the correaltion, the other two pair all have their correlation coefficient smaller than |0.1|, while the pair of hours_per_week and education)num are the only one with a correlaton coefficient larger than |0.1|. This is also what I was expected, since the scatter plot of the third pair does show a slightly positive relationship. \\\r\n"
      ]
    },
    {
      "cell_type": "code",
      "metadata": {
        "colab": {
          "base_uri": "https://localhost:8080/"
        },
        "id": "HLOWKUPHe2gG",
        "outputId": "8c2d6e20-1da6-424e-dd4e-b5edb0f11909"
      },
      "source": [
        "corr1, _ = sci.pearsonr(male.age, male.education_num)\r\n",
        "print('Pearsons correlation for male: %.3f' % corr1)\r\n",
        "corr2, _ = sci.pearsonr(female.age, female.education_num)\r\n",
        "print('Pearsons correlation for female: %.3f' % corr2)"
      ],
      "execution_count": 130,
      "outputs": [
        {
          "output_type": "stream",
          "text": [
            "Pearsons correlation for male: 0.060\n",
            "Pearsons correlation for female: -0.018\n"
          ],
          "name": "stdout"
        }
      ]
    },
    {
      "cell_type": "markdown",
      "metadata": {
        "id": "vs1scfcvfze3"
      },
      "source": [
        "c). From the result correalation, we could find that older male may tend to have more educational experience, while older female may tend to have less educational experience. However, both relationships are not strong since the coefficient is less than |0.1|. This is not what I was expected though. I think such difference between male and female may due to the gender inequality in the past years. Those older male had a longer education when they are young compared with female of the same age."
      ]
    },
    {
      "cell_type": "code",
      "metadata": {
        "colab": {
          "base_uri": "https://localhost:8080/"
        },
        "id": "icsy-F2_hQH_",
        "outputId": "9c9218ea-9132-4de0-85e0-99201591a58f"
      },
      "source": [
        "# def weighted_variance(values, weights):\r\n",
        "#   average = np.average(values, weights=weights)\r\n",
        "#   # Fast and numerically precise:\r\n",
        "#   variance = np.average((values-average)**2, weights=weights)\r\n",
        "#   return (variance)\r\n",
        "\r\n",
        "# obtain a 2d array used to calculate covariance.\r\n",
        "df = income94[income94.fnlwgt.isna() == False]\r\n",
        "df1 = df[[\"education_num\", \"hours_per_week\"]]\r\n",
        "arr = df1.to_numpy()\r\n",
        "# Obtain weights\r\n",
        "df2 = df[\"fnlwgt\"]\r\n",
        "weights = df2.to_numpy()\r\n",
        "# Calculate weighted covariance\r\n",
        "ds = DescrStatsW(arr, weights=weights)\r\n",
        "# edu_variance = weighted_variance(df[\"education_num\"].to_numpy(), weights)\r\n",
        "print (\"the weighted covariance:\")\r\n",
        "print (ds.cov)\r\n",
        "print (\"the unweighted covariance\")\r\n",
        "print (np.cov(df.education_num, df.hours_per_week))"
      ],
      "execution_count": 154,
      "outputs": [
        {
          "output_type": "stream",
          "text": [
            "the weighted covariance:\n",
            "[[  6.72779844   4.6754599 ]\n",
            " [  4.6754599  147.62081729]]\n",
            "the unweighted covariance\n",
            "[[  6.57143182   4.73043009]\n",
            " [  4.73043009 153.09036608]]\n"
          ],
          "name": "stdout"
        }
      ]
    },
    {
      "cell_type": "markdown",
      "metadata": {
        "id": "FBGg8fnPEyM8"
      },
      "source": [
        "d). As shown above, the weighted variance of education_num and the weighted variance of unweighted variance of "
      ]
    }
  ]
}